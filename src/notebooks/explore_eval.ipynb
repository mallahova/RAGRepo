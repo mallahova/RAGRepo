{
 "cells": [
  {
   "cell_type": "markdown",
   "metadata": {},
   "source": [
    "# Exploration of Evaluation Dataset"
   ]
  },
  {
   "cell_type": "markdown",
   "metadata": {},
   "source": [
    "### Execute code from root directory"
   ]
  },
  {
   "cell_type": "code",
   "execution_count": 20,
   "metadata": {},
   "outputs": [],
   "source": [
    "import os\n",
    "import sys\n",
    "\n",
    "# Go from src/notebooks/ → RAGRepo/\n",
    "PROJECT_ROOT = os.path.abspath(os.path.join(os.getcwd(), \"../../\"))\n",
    "os.chdir(PROJECT_ROOT)  # ← THIS sets the working directory permanently\n",
    "\n",
    "# Optional: make sure you can import src.*\n",
    "if PROJECT_ROOT not in sys.path:\n",
    "    sys.path.insert(0, PROJECT_ROOT)"
   ]
  },
  {
   "cell_type": "code",
   "execution_count": 24,
   "metadata": {},
   "outputs": [
    {
     "data": {
      "text/plain": [
       "'/home/mallahova/code/basics/projects/interview/RAGRepo'"
      ]
     },
     "execution_count": 24,
     "metadata": {},
     "output_type": "execute_result"
    }
   ],
   "source": [
    "%pwd"
   ]
  },
  {
   "cell_type": "code",
   "execution_count": 30,
   "metadata": {},
   "outputs": [],
   "source": [
    "\n",
    "from langchain_community.vectorstores import FAISS\n",
    "from src.core.config_loader import load_config\n",
    "from src.core.component_registry import (\n",
    "    EMBEDDINGS,\n",
    ")\n",
    "import json"
   ]
  },
  {
   "cell_type": "markdown",
   "metadata": {},
   "source": [
    "### Retrieve all filenames stored in FAISS"
   ]
  },
  {
   "cell_type": "code",
   "execution_count": null,
   "metadata": {},
   "outputs": [],
   "source": [
    "config = load_config(\"config/base.yaml\")\n",
    "embedding_cfg = config[\"embedding\"]\n",
    "embedding_cls = EMBEDDINGS[embedding_cfg[\"class\"]]\n",
    "embedding_model = embedding_cls(model_name=embedding_cfg[\"name\"])\n",
    "\n",
    "github_url = \"https://github.com/viarotel-org/escrcpy.git\"\n",
    "index_dir = \"src/data/index\"\n",
    "faiss_index = FAISS.load_local(\n",
    "   index_dir, embeddings=embedding_model, allow_dangerous_deserialization=True\n",
    ")\n",
    "\n",
    "documents = faiss_index.docstore._dict  # This is an internal dict of documents\n",
    "\n",
    "# Print all keys (usually these are UUIDs or similar identifiers)\n",
    "filenames_faiss = set([doc.metadata[\"source\"] for doc in documents.values()])"
   ]
  },
  {
   "cell_type": "markdown",
   "metadata": {},
   "source": [
    "### Retrieve all filenames stored in evaluation dataset"
   ]
  },
  {
   "cell_type": "code",
   "execution_count": 35,
   "metadata": {},
   "outputs": [],
   "source": [
    "with open(\"src/data/eval/escrcpy-commits-generated.json\") as f:\n",
    "    eval_data = json.load(f)"
   ]
  },
  {
   "cell_type": "code",
   "execution_count": 47,
   "metadata": {},
   "outputs": [],
   "source": [
    "eval_filenames = set(file for query in eval_data for file in query[\"files\"])"
   ]
  },
  {
   "cell_type": "markdown",
   "metadata": {},
   "source": [
    "### Check if FAISS stores every file from the evaluation dataset"
   ]
  },
  {
   "cell_type": "code",
   "execution_count": 49,
   "metadata": {},
   "outputs": [
    {
     "data": {
      "text/plain": [
       "False"
      ]
     },
     "execution_count": 49,
     "metadata": {},
     "output_type": "execute_result"
    }
   ],
   "source": [
    "eval_filenames<=filenames_faiss"
   ]
  },
  {
   "cell_type": "code",
   "execution_count": 52,
   "metadata": {},
   "outputs": [
    {
     "name": "stdout",
     "output_type": "stream",
     "text": [
      "Not in FAISS index:\n",
      "electron/resources/extra/linux/scrcpy/scrcpy.1\n"
     ]
    }
   ],
   "source": [
    "not_in_faiiss = eval_filenames - filenames_faiss\n",
    "print(\"Not in FAISS index:\")\n",
    "for filename in not_in_faiiss:\n",
    "    print(filename)"
   ]
  },
  {
   "cell_type": "markdown",
   "metadata": {},
   "source": [
    "This folder doesn't exist, probably it was removed from the repository with newer commits."
   ]
  },
  {
   "cell_type": "code",
   "execution_count": 57,
   "metadata": {},
   "outputs": [
    {
     "name": "stdout",
     "output_type": "stream",
     "text": [
      "\u001b[0m\u001b[01;34mtray\u001b[0m/\n"
     ]
    }
   ],
   "source": [
    "%ls .temp_repo/electron/resources/extra/linux"
   ]
  },
  {
   "cell_type": "markdown",
   "metadata": {},
   "source": [
    "For correct evaluation, I removed this file from evaluation dataset."
   ]
  },
  {
   "cell_type": "markdown",
   "metadata": {},
   "source": [
    "### Explore evaluation dataset"
   ]
  },
  {
   "cell_type": "code",
   "execution_count": 59,
   "metadata": {},
   "outputs": [
    {
     "name": "stdout",
     "output_type": "stream",
     "text": [
      "Evaluation dataset length: 34\n"
     ]
    }
   ],
   "source": [
    "print(f'Evaluation dataset length: {len(eval_data)}')"
   ]
  },
  {
   "cell_type": "code",
   "execution_count": 60,
   "metadata": {},
   "outputs": [
    {
     "name": "stdout",
     "output_type": "stream",
     "text": [
      "Average number of files per query: 2.1176470588235294\n"
     ]
    }
   ],
   "source": [
    "print(f'Average number of files per query: {sum(len(query[\"files\"]) for query in eval_data) / len(eval_data)}')"
   ]
  },
  {
   "cell_type": "markdown",
   "metadata": {},
   "source": [
    "The dataset is quite small, so splitting it isn’t practical. I will use the whole dataset to compare between the model configuraions."
   ]
  }
 ],
 "metadata": {
  "kernelspec": {
   "display_name": "ragrepo",
   "language": "python",
   "name": "python3"
  },
  "language_info": {
   "codemirror_mode": {
    "name": "ipython",
    "version": 3
   },
   "file_extension": ".py",
   "mimetype": "text/x-python",
   "name": "python",
   "nbconvert_exporter": "python",
   "pygments_lexer": "ipython3",
   "version": "3.10.16"
  }
 },
 "nbformat": 4,
 "nbformat_minor": 2
}
